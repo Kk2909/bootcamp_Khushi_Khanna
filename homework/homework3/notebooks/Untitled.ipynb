{
 "cells": [
  {
   "cell_type": "code",
   "execution_count": 4,
   "id": "590c7c64-6795-47a1-b34f-ca61dfdbe1a6",
   "metadata": {},
   "outputs": [
    {
     "ename": "AttributeError",
     "evalue": "module 'matplotlib' has no attribute 'get_data_path'",
     "output_type": "error",
     "traceback": [
      "\u001b[31m---------------------------------------------------------------------------\u001b[39m",
      "\u001b[31mAttributeError\u001b[39m                            Traceback (most recent call last)",
      "\u001b[36mCell\u001b[39m\u001b[36m \u001b[39m\u001b[32mIn[4]\u001b[39m\u001b[32m, line 5\u001b[39m\n\u001b[32m      3\u001b[39m \u001b[38;5;28;01mimport\u001b[39;00m\u001b[38;5;250m \u001b[39m\u001b[34;01mnumpy\u001b[39;00m\u001b[38;5;250m \u001b[39m\u001b[38;5;28;01mas\u001b[39;00m\u001b[38;5;250m \u001b[39m\u001b[34;01mnp\u001b[39;00m\n\u001b[32m      4\u001b[39m \u001b[38;5;28;01mimport\u001b[39;00m\u001b[38;5;250m \u001b[39m\u001b[34;01mpandas\u001b[39;00m\u001b[38;5;250m \u001b[39m\u001b[38;5;28;01mas\u001b[39;00m\u001b[38;5;250m \u001b[39m\u001b[34;01mpd\u001b[39;00m\n\u001b[32m----> \u001b[39m\u001b[32m5\u001b[39m \u001b[38;5;28;01mimport\u001b[39;00m\u001b[38;5;250m \u001b[39m\u001b[34;01mmatplotlib\u001b[39;00m\u001b[34;01m.\u001b[39;00m\u001b[34;01mpyplot\u001b[39;00m\u001b[38;5;250m \u001b[39m\u001b[38;5;28;01mas\u001b[39;00m\u001b[38;5;250m \u001b[39m\u001b[34;01mplt\u001b[39;00m\n\u001b[32m      6\u001b[39m \u001b[38;5;28;01mfrom\u001b[39;00m\u001b[38;5;250m \u001b[39m\u001b[34;01msrc\u001b[39;00m\u001b[34;01m.\u001b[39;00m\u001b[34;01mutils\u001b[39;00m\u001b[38;5;250m \u001b[39m\u001b[38;5;28;01mimport\u001b[39;00m get_summary_stats \n\u001b[32m      8\u001b[39m \u001b[38;5;66;03m# NumPy \u001b[39;00m\n",
      "\u001b[36mFile \u001b[39m\u001b[32m~\\miniconda3\\Lib\\site-packages\\matplotlib\\__init__.py:1001\u001b[39m\n\u001b[32m    995\u001b[39m     _log.debug(\u001b[33m'\u001b[39m\u001b[33mloaded rc file \u001b[39m\u001b[38;5;132;01m%s\u001b[39;00m\u001b[33m'\u001b[39m, fname)\n\u001b[32m    997\u001b[39m     \u001b[38;5;28;01mreturn\u001b[39;00m config\n\u001b[32m   1000\u001b[39m rcParamsDefault = _rc_params_in_file(\n\u001b[32m-> \u001b[39m\u001b[32m1001\u001b[39m     cbook._get_data_path(\u001b[33m\"\u001b[39m\u001b[33mmatplotlibrc\u001b[39m\u001b[33m\"\u001b[39m),\n\u001b[32m   1002\u001b[39m     \u001b[38;5;66;03m# Strip leading comment.\u001b[39;00m\n\u001b[32m   1003\u001b[39m     transform=\u001b[38;5;28;01mlambda\u001b[39;00m line: line[\u001b[32m1\u001b[39m:] \u001b[38;5;28;01mif\u001b[39;00m line.startswith(\u001b[33m\"\u001b[39m\u001b[33m#\u001b[39m\u001b[33m\"\u001b[39m) \u001b[38;5;28;01melse\u001b[39;00m line,\n\u001b[32m   1004\u001b[39m     fail_on_error=\u001b[38;5;28;01mTrue\u001b[39;00m)\n\u001b[32m   1005\u001b[39m rcParamsDefault._update_raw(rcsetup._hardcoded_defaults)\n\u001b[32m   1006\u001b[39m rcParamsDefault._ensure_has_backend()\n",
      "\u001b[36mFile \u001b[39m\u001b[32m~\\miniconda3\\Lib\\site-packages\\matplotlib\\cbook.py:603\u001b[39m, in \u001b[36m_get_data_path\u001b[39m\u001b[34m(*args)\u001b[39m\n\u001b[32m    597\u001b[39m \u001b[38;5;28;01mdef\u001b[39;00m\u001b[38;5;250m \u001b[39m\u001b[34m_get_data_path\u001b[39m(*args):\n\u001b[32m    598\u001b[39m \u001b[38;5;250m    \u001b[39m\u001b[33;03m\"\"\"\u001b[39;00m\n\u001b[32m    599\u001b[39m \u001b[33;03m    Return the `pathlib.Path` to a resource file provided by Matplotlib.\u001b[39;00m\n\u001b[32m    600\u001b[39m \n\u001b[32m    601\u001b[39m \u001b[33;03m    ``*args`` specify a path relative to the base data path.\u001b[39;00m\n\u001b[32m    602\u001b[39m \u001b[33;03m    \"\"\"\u001b[39;00m\n\u001b[32m--> \u001b[39m\u001b[32m603\u001b[39m     \u001b[38;5;28;01mreturn\u001b[39;00m Path(matplotlib.get_data_path(), *args)\n",
      "\u001b[36mFile \u001b[39m\u001b[32m~\\miniconda3\\Lib\\site-packages\\matplotlib\\_api\\__init__.py:218\u001b[39m, in \u001b[36mcaching_module_getattr.<locals>.__getattr__\u001b[39m\u001b[34m(name)\u001b[39m\n\u001b[32m    216\u001b[39m \u001b[38;5;28;01mif\u001b[39;00m name \u001b[38;5;129;01min\u001b[39;00m props:\n\u001b[32m    217\u001b[39m     \u001b[38;5;28;01mreturn\u001b[39;00m props[name].\u001b[34m__get__\u001b[39m(instance)\n\u001b[32m--> \u001b[39m\u001b[32m218\u001b[39m \u001b[38;5;28;01mraise\u001b[39;00m \u001b[38;5;167;01mAttributeError\u001b[39;00m(\n\u001b[32m    219\u001b[39m     \u001b[33mf\u001b[39m\u001b[33m\"\u001b[39m\u001b[33mmodule \u001b[39m\u001b[38;5;132;01m{\u001b[39;00m\u001b[38;5;28mcls\u001b[39m.\u001b[34m__module__\u001b[39m\u001b[38;5;132;01m!r}\u001b[39;00m\u001b[33m has no attribute \u001b[39m\u001b[38;5;132;01m{\u001b[39;00mname\u001b[38;5;132;01m!r}\u001b[39;00m\u001b[33m\"\u001b[39m)\n",
      "\u001b[31mAttributeError\u001b[39m: module 'matplotlib' has no attribute 'get_data_path'"
     ]
    }
   ],
   "source": [
    "# Stage 03: Python Fundamentals Homework\n",
    "\n",
    "import numpy as np\n",
    "import pandas as pd\n",
    "import matplotlib.pyplot as plt\n",
    "from src.utils import get_summary_stats \n",
    "\n",
    "# NumPy \n",
    "arr = np.arange(1, 11)\n",
    "print(\"Original array:\", arr)\n",
    "\n",
    "# operations\n",
    "squared = arr ** 2\n",
    "rooted = np.sqrt(arr)\n",
    "\n",
    "print(\"Squared:\", squared)\n",
    "print(\"Square Root:\", rooted)\n",
    "\n",
    "import time\n",
    "arr_large = np.arange(1, 1_000_001)\n",
    "\n",
    "start = time.time()\n",
    "loop_result = [x**2 for x in arr_large]\n",
    "print(\"Loop time:\", time.time() - start)\n",
    "\n",
    "start = time.time()\n",
    "vec_result = arr_large**2\n",
    "print(\"Vectorized time:\", time.time() - start)\n",
    "\n",
    "# Loading dataset\n",
    "df = pd.read_csv(\"../data/starter_data.csv\")  # adjust path if needed\n",
    "print(df.info())\n",
    "print(df.head())\n",
    "\n",
    "# Summary \n",
    "summary = df.describe()\n",
    "print(summary)\n",
    "\n",
    "group_summary = df.groupby(\"category\").mean(numeric_only=True)\n",
    "print(group_summary)\n",
    "\n",
    "summary.to_csv(\"../data/processed/summary.csv\", index=False)\n",
    "group_summary.to_csv(\"../data/processed/group_summary.csv\")\n",
    "\n",
    "df[\"numeric_col\"].hist()\n",
    "plt.title(\"Distribution of numeric_col\")\n",
    "plt.savefig(\"../data/processed/numeric_col_hist.png\")\n",
    "\n",
    "stats = get_summary_stats(df)\n",
    "print(stats)"
   ]
  },
  {
   "cell_type": "code",
   "execution_count": null,
   "id": "df170fc9-f8ed-42a9-8ef1-1f4793036c4d",
   "metadata": {},
   "outputs": [],
   "source": []
  }
 ],
 "metadata": {
  "kernelspec": {
   "display_name": "Python 3 (ipykernel)",
   "language": "python",
   "name": "python3"
  },
  "language_info": {
   "codemirror_mode": {
    "name": "ipython",
    "version": 3
   },
   "file_extension": ".py",
   "mimetype": "text/x-python",
   "name": "python",
   "nbconvert_exporter": "python",
   "pygments_lexer": "ipython3",
   "version": "3.13.5"
  }
 },
 "nbformat": 4,
 "nbformat_minor": 5
}
