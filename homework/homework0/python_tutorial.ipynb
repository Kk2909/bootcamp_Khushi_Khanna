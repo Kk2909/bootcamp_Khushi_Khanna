{
 "cells": [
  {
   "cell_type": "code",
   "execution_count": 1,
   "id": "0b423110-ec59-4c6e-aae4-dc2c223b59df",
   "metadata": {},
   "outputs": [
    {
     "name": "stdout",
     "output_type": "stream",
     "text": [
      "Hello, Bootcamp!\n"
     ]
    }
   ],
   "source": [
    "print(\"Hello, Bootcamp!\")\n"
   ]
  },
  {
   "cell_type": "code",
   "execution_count": null,
   "id": "88ad7876-009b-4b0e-a2c7-dc40845576b4",
   "metadata": {},
   "outputs": [],
   "source": []
  }
 ],
 "metadata": {
  "kernelspec": {
   "display_name": "Python 3 (ipykernel)",
   "language": "python",
   "name": "python3"
  },
  "language_info": {
   "codemirror_mode": {
    "name": "ipython",
    "version": 3
   },
   "file_extension": ".py",
   "mimetype": "text/x-python",
   "name": "python",
   "nbconvert_exporter": "python",
   "pygments_lexer": "ipython3",
   "version": "3.13.5"
  }
 },
 "nbformat": 4,
 "nbformat_minor": 5
}
